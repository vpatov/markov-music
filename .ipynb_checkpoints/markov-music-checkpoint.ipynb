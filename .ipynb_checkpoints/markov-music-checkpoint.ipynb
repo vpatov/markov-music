{
 "cells": [
  {
   "cell_type": "code",
   "execution_count": 123,
   "metadata": {
    "collapsed": true
   },
   "outputs": [],
   "source": [
    "import numpy as np\n",
    "import random\n",
    "from collections import Counter"
   ]
  },
  {
   "cell_type": "code",
   "execution_count": 80,
   "metadata": {
    "collapsed": true
   },
   "outputs": [],
   "source": [
    "def generate_probs(n):\n",
    "    nums = np.random.random(n)\n",
    "    return nums / sum(nums)"
   ]
  },
  {
   "cell_type": "code",
   "execution_count": 170,
   "metadata": {},
   "outputs": [],
   "source": [
    "dim = 3\n",
    "notes = [3,4,6,7,9,11,12]\n",
    "num_notes = len(notes)\n",
    "mapping = {k:v for k,v in zip(notes,range(num_notes))}\n",
    "markov_table = np.zeros(shape=(num_notes,)*dim)\n",
    "for index in np.ndindex((num_notes,)*(dim-1)):\n",
    "    markov_table[index] = generate_probs(num_notes)"
   ]
  },
  {
   "cell_type": "code",
   "execution_count": 197,
   "metadata": {},
   "outputs": [],
   "source": [
    "# Notes that you want to increase the probability of\n",
    "\n",
    "hardcodes = {\n",
    "    tuple(mapping[note] for note in key):mapping[value] for key,value in \n",
    "        {\n",
    "        (4,6,7):11,\n",
    "        (7,6,4):3,\n",
    "        (4,4,4):3,\n",
    "        (3,7,6):4,\n",
    "        (4,7,11):11\n",
    "    }.items()\n",
    "}\n"
   ]
  },
  {
   "cell_type": "code",
   "execution_count": 198,
   "metadata": {},
   "outputs": [
    {
     "data": {
      "text/plain": [
       "{(0, 3, 2): 1, (1, 1, 1): 0, (1, 2, 3): 5, (1, 3, 5): 5, (3, 2, 1): 0}"
      ]
     },
     "execution_count": 198,
     "metadata": {},
     "output_type": "execute_result"
    }
   ],
   "source": [
    "hardcodes"
   ]
  },
  {
   "cell_type": "code",
   "execution_count": 128,
   "metadata": {},
   "outputs": [],
   "source": []
  },
  {
   "cell_type": "code",
   "execution_count": null,
   "metadata": {},
   "outputs": [],
   "source": []
  },
  {
   "cell_type": "code",
   "execution_count": 191,
   "metadata": {},
   "outputs": [],
   "source": [
    "generated_notes = [4,6,7]\n",
    "\n",
    "for i in range(0,10):\n",
    "    cur_indeces = tuple([mapping[note] for note in generated_notes[-dim:]][1:])\n",
    "    generated_note = np.random.choice(notes,p=markov_table[cur_indeces])\n",
    "    generated_notes.append(generated_note)"
   ]
  },
  {
   "cell_type": "code",
   "execution_count": 192,
   "metadata": {},
   "outputs": [
    {
     "data": {
      "text/plain": [
       "[4, 6, 7, 11, 11, 4, 4, 12, 3, 6, 4, 11, 12]"
      ]
     },
     "execution_count": 192,
     "metadata": {},
     "output_type": "execute_result"
    }
   ],
   "source": [
    "generated_notes"
   ]
  },
  {
   "cell_type": "code",
   "execution_count": 199,
   "metadata": {},
   "outputs": [],
   "source": [
    "# given a sequence of notes, construct an nth order probability table from it \n",
    "def build_table(stream,dim):\n",
    "    markov_table = np.zeros(shape=(num_notes,)*dim)\n",
    "    "
   ]
  },
  {
   "cell_type": "code",
   "execution_count": null,
   "metadata": {
    "collapsed": true
   },
   "outputs": [],
   "source": []
  }
 ],
 "metadata": {
  "kernelspec": {
   "display_name": "Python 3",
   "language": "python",
   "name": "python3"
  },
  "language_info": {
   "codemirror_mode": {
    "name": "ipython",
    "version": 3
   },
   "file_extension": ".py",
   "mimetype": "text/x-python",
   "name": "python",
   "nbconvert_exporter": "python",
   "pygments_lexer": "ipython3",
   "version": "3.6.1"
  }
 },
 "nbformat": 4,
 "nbformat_minor": 2
}
